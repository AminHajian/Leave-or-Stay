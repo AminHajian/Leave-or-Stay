{
 "cells": [
  {
   "attachments": {},
   "cell_type": "markdown",
   "metadata": {},
   "source": [
    "#### add primary imports"
   ]
  },
  {
   "cell_type": "code",
   "execution_count": 1,
   "metadata": {},
   "outputs": [],
   "source": [
    "import pandas as pd\n",
    "import pylab as pl\n",
    "import numpy as np\n",
    "import scipy.optimize as opt\n",
    "from sklearn import preprocessing\n",
    "%matplotlib inline \n",
    "import matplotlib.pyplot as plt"
   ]
  },
  {
   "attachments": {},
   "cell_type": "markdown",
   "metadata": {},
   "source": [
    "#### Load csv "
   ]
  },
  {
   "cell_type": "code",
   "execution_count": 5,
   "metadata": {},
   "outputs": [],
   "source": [
    "churn_df = pd.read_csv(\"ChurnData.csv\")\n",
    "churn_df['churn'] = churn_df['churn'].astype('int')"
   ]
  },
  {
   "attachments": {},
   "cell_type": "markdown",
   "metadata": {},
   "source": [
    "#### preprocessing \n",
    "- Data pre-processing and selection"
   ]
  },
  {
   "cell_type": "code",
   "execution_count": 22,
   "metadata": {},
   "outputs": [
    {
     "data": {
      "text/plain": [
       "array([[1.10000e+01, 3.30000e+01, 7.00000e+00, 1.36000e+02, 5.00000e+00,\n",
       "        5.00000e+00, 0.00000e+00, 1.00000e+00, 1.00000e+00, 4.40000e+00,\n",
       "        2.07500e+01, 0.00000e+00, 1.52500e+01, 3.57000e+01, 4.20000e+01,\n",
       "        2.11450e+02, 1.25000e+02, 1.00000e+00, 1.00000e+00, 0.00000e+00,\n",
       "        1.00000e+00, 1.00000e+00, 0.00000e+00, 1.48200e+00, 3.03300e+00,\n",
       "        4.91300e+00, 4.00000e+00],\n",
       "       [3.30000e+01, 3.30000e+01, 1.20000e+01, 3.30000e+01, 2.00000e+00,\n",
       "        0.00000e+00, 0.00000e+00, 0.00000e+00, 0.00000e+00, 9.45000e+00,\n",
       "        0.00000e+00, 0.00000e+00, 0.00000e+00, 0.00000e+00, 2.88800e+02,\n",
       "        0.00000e+00, 0.00000e+00, 0.00000e+00, 0.00000e+00, 0.00000e+00,\n",
       "        0.00000e+00, 0.00000e+00, 0.00000e+00, 2.24600e+00, 3.24000e+00,\n",
       "        3.49700e+00, 1.00000e+00],\n",
       "       [2.30000e+01, 3.00000e+01, 9.00000e+00, 3.00000e+01, 1.00000e+00,\n",
       "        2.00000e+00, 0.00000e+00, 0.00000e+00, 0.00000e+00, 6.30000e+00,\n",
       "        0.00000e+00, 0.00000e+00, 0.00000e+00, 0.00000e+00, 1.57050e+02,\n",
       "        0.00000e+00, 0.00000e+00, 0.00000e+00, 0.00000e+00, 0.00000e+00,\n",
       "        0.00000e+00, 1.00000e+00, 0.00000e+00, 1.84100e+00, 3.24000e+00,\n",
       "        3.40100e+00, 3.00000e+00],\n",
       "       [3.80000e+01, 3.50000e+01, 5.00000e+00, 7.60000e+01, 2.00000e+00,\n",
       "        1.00000e+01, 1.00000e+00, 1.00000e+00, 1.00000e+00, 6.05000e+00,\n",
       "        4.50000e+01, 5.01000e+01, 2.32500e+01, 6.49000e+01, 2.39550e+02,\n",
       "        1.87305e+03, 8.80000e+02, 1.00000e+00, 1.00000e+00, 1.00000e+00,\n",
       "        1.00000e+00, 1.00000e+00, 1.00000e+00, 1.80000e+00, 3.80700e+00,\n",
       "        4.33100e+00, 4.00000e+00],\n",
       "       [7.00000e+00, 3.50000e+01, 1.40000e+01, 8.00000e+01, 2.00000e+00,\n",
       "        1.50000e+01, 0.00000e+00, 1.00000e+00, 0.00000e+00, 7.10000e+00,\n",
       "        2.20000e+01, 0.00000e+00, 2.37500e+01, 0.00000e+00, 4.74500e+01,\n",
       "        1.66100e+02, 1.45000e+02, 1.00000e+00, 0.00000e+00, 0.00000e+00,\n",
       "        1.00000e+00, 1.00000e+00, 0.00000e+00, 1.96000e+00, 3.09100e+00,\n",
       "        4.38200e+00, 3.00000e+00]])"
      ]
     },
     "execution_count": 22,
     "metadata": {},
     "output_type": "execute_result"
    }
   ],
   "source": [
    "X = np.asarray(churn_df.drop(['churn'], axis=1))    # all columns - churn\n",
    "y = np.asarray(churn_df['churn'])\n",
    "X[0:5]"
   ]
  },
  {
   "attachments": {},
   "cell_type": "markdown",
   "metadata": {},
   "source": [
    "#### normalize the dataset"
   ]
  },
  {
   "cell_type": "code",
   "execution_count": 23,
   "metadata": {},
   "outputs": [
    {
     "data": {
      "text/plain": [
       "array([[-1.13518441, -0.62595491, -0.4588971 ,  0.4751423 ,  1.6961288 ,\n",
       "        -0.58477841, -0.85972695,  0.64686916,  1.56469673, -0.74922681,\n",
       "         0.48126577, -0.80905935,  0.06044721,  1.08826163, -0.71940664,\n",
       "        -0.36132818, -0.55974431,  1.54590766,  1.62368828, -0.88640526,\n",
       "         1.0944415 ,  1.08347268, -0.88640526, -0.97509593, -0.69987184,\n",
       "         1.28150384,  1.41630855],\n",
       "       [-0.11604313, -0.62595491,  0.03454064, -0.32886061, -0.6433592 ,\n",
       "        -1.14437497, -0.85972695, -1.54590766, -0.63910148, -0.23718629,\n",
       "        -0.84846321, -0.80905935, -0.97385292, -0.56616669, -0.38801572,\n",
       "        -0.61983235, -0.69284848, -0.64686916, -0.61588176, -0.88640526,\n",
       "        -0.91370804, -0.92295821, -0.88640526,  0.07226665,  0.03858151,\n",
       "        -0.60481397, -1.36987221],\n",
       "       [-0.57928917, -0.85594447, -0.261522  , -0.35227817, -1.42318853,\n",
       "        -0.92053635, -0.85972695, -1.54590766, -0.63910148, -0.5565779 ,\n",
       "        -0.84846321, -0.80905935, -0.97385292, -0.56616669, -0.56492315,\n",
       "        -0.61983235, -0.69284848, -0.64686916, -0.61588176, -0.88640526,\n",
       "        -0.91370804,  1.08347268, -0.88640526, -0.48294519,  0.03858151,\n",
       "        -0.73269992,  0.48758163],\n",
       "       [ 0.11557989, -0.47262854, -0.65627219,  0.00679109, -0.6433592 ,\n",
       "        -0.02518185,  1.16316   ,  0.64686916,  1.56469673, -0.58192644,\n",
       "         2.03528638,  1.75909826,  0.60303089,  2.44146351, -0.4541462 ,\n",
       "         1.6700292 ,  0.24420489,  1.54590766,  1.62368828,  1.12815215,\n",
       "         1.0944415 ,  1.08347268,  1.12815215, -0.53915182,  2.06130155,\n",
       "         0.50619525,  1.41630855],\n",
       "       [-1.32048283, -0.47262854,  0.23191574,  0.03801451, -0.6433592 ,\n",
       "         0.53441472, -0.85972695,  0.64686916, -0.63910148, -0.47546257,\n",
       "         0.56136992, -0.80905935,  0.63694237, -0.56616669, -0.71208865,\n",
       "        -0.41676996, -0.53844764,  1.54590766, -0.61588176, -0.88640526,\n",
       "         1.0944415 ,  1.08347268, -0.88640526, -0.31980887, -0.4929622 ,\n",
       "         0.57413466,  0.48758163]])"
      ]
     },
     "execution_count": 23,
     "metadata": {},
     "output_type": "execute_result"
    }
   ],
   "source": [
    "from sklearn import preprocessing\n",
    "X = preprocessing.StandardScaler().fit(X).transform(X)\n",
    "X[0:5]"
   ]
  },
  {
   "attachments": {},
   "cell_type": "markdown",
   "metadata": {},
   "source": [
    "#### Train/Test dataset"
   ]
  },
  {
   "cell_type": "code",
   "execution_count": 24,
   "metadata": {},
   "outputs": [
    {
     "name": "stdout",
     "output_type": "stream",
     "text": [
      "Train set: (160, 27) (160,)\n",
      "Test set: (40, 27) (40,)\n"
     ]
    }
   ],
   "source": [
    "from sklearn.model_selection import train_test_split\n",
    "X_train, X_test, y_train, y_test = train_test_split( X, y, test_size=0.2, random_state=4)\n",
    "print ('Train set:', X_train.shape,  y_train.shape)\n",
    "print ('Test set:', X_test.shape,  y_test.shape)"
   ]
  },
  {
   "attachments": {},
   "cell_type": "markdown",
   "metadata": {},
   "source": [
    "#### Modeling (Logistic Regression with Scikit-learn)"
   ]
  },
  {
   "cell_type": "code",
   "execution_count": 25,
   "metadata": {},
   "outputs": [
    {
     "data": {
      "text/html": [
       "<style>#sk-container-id-1 {color: black;background-color: white;}#sk-container-id-1 pre{padding: 0;}#sk-container-id-1 div.sk-toggleable {background-color: white;}#sk-container-id-1 label.sk-toggleable__label {cursor: pointer;display: block;width: 100%;margin-bottom: 0;padding: 0.3em;box-sizing: border-box;text-align: center;}#sk-container-id-1 label.sk-toggleable__label-arrow:before {content: \"▸\";float: left;margin-right: 0.25em;color: #696969;}#sk-container-id-1 label.sk-toggleable__label-arrow:hover:before {color: black;}#sk-container-id-1 div.sk-estimator:hover label.sk-toggleable__label-arrow:before {color: black;}#sk-container-id-1 div.sk-toggleable__content {max-height: 0;max-width: 0;overflow: hidden;text-align: left;background-color: #f0f8ff;}#sk-container-id-1 div.sk-toggleable__content pre {margin: 0.2em;color: black;border-radius: 0.25em;background-color: #f0f8ff;}#sk-container-id-1 input.sk-toggleable__control:checked~div.sk-toggleable__content {max-height: 200px;max-width: 100%;overflow: auto;}#sk-container-id-1 input.sk-toggleable__control:checked~label.sk-toggleable__label-arrow:before {content: \"▾\";}#sk-container-id-1 div.sk-estimator input.sk-toggleable__control:checked~label.sk-toggleable__label {background-color: #d4ebff;}#sk-container-id-1 div.sk-label input.sk-toggleable__control:checked~label.sk-toggleable__label {background-color: #d4ebff;}#sk-container-id-1 input.sk-hidden--visually {border: 0;clip: rect(1px 1px 1px 1px);clip: rect(1px, 1px, 1px, 1px);height: 1px;margin: -1px;overflow: hidden;padding: 0;position: absolute;width: 1px;}#sk-container-id-1 div.sk-estimator {font-family: monospace;background-color: #f0f8ff;border: 1px dotted black;border-radius: 0.25em;box-sizing: border-box;margin-bottom: 0.5em;}#sk-container-id-1 div.sk-estimator:hover {background-color: #d4ebff;}#sk-container-id-1 div.sk-parallel-item::after {content: \"\";width: 100%;border-bottom: 1px solid gray;flex-grow: 1;}#sk-container-id-1 div.sk-label:hover label.sk-toggleable__label {background-color: #d4ebff;}#sk-container-id-1 div.sk-serial::before {content: \"\";position: absolute;border-left: 1px solid gray;box-sizing: border-box;top: 0;bottom: 0;left: 50%;z-index: 0;}#sk-container-id-1 div.sk-serial {display: flex;flex-direction: column;align-items: center;background-color: white;padding-right: 0.2em;padding-left: 0.2em;position: relative;}#sk-container-id-1 div.sk-item {position: relative;z-index: 1;}#sk-container-id-1 div.sk-parallel {display: flex;align-items: stretch;justify-content: center;background-color: white;position: relative;}#sk-container-id-1 div.sk-item::before, #sk-container-id-1 div.sk-parallel-item::before {content: \"\";position: absolute;border-left: 1px solid gray;box-sizing: border-box;top: 0;bottom: 0;left: 50%;z-index: -1;}#sk-container-id-1 div.sk-parallel-item {display: flex;flex-direction: column;z-index: 1;position: relative;background-color: white;}#sk-container-id-1 div.sk-parallel-item:first-child::after {align-self: flex-end;width: 50%;}#sk-container-id-1 div.sk-parallel-item:last-child::after {align-self: flex-start;width: 50%;}#sk-container-id-1 div.sk-parallel-item:only-child::after {width: 0;}#sk-container-id-1 div.sk-dashed-wrapped {border: 1px dashed gray;margin: 0 0.4em 0.5em 0.4em;box-sizing: border-box;padding-bottom: 0.4em;background-color: white;}#sk-container-id-1 div.sk-label label {font-family: monospace;font-weight: bold;display: inline-block;line-height: 1.2em;}#sk-container-id-1 div.sk-label-container {text-align: center;}#sk-container-id-1 div.sk-container {/* jupyter's `normalize.less` sets `[hidden] { display: none; }` but bootstrap.min.css set `[hidden] { display: none !important; }` so we also need the `!important` here to be able to override the default hidden behavior on the sphinx rendered scikit-learn.org. See: https://github.com/scikit-learn/scikit-learn/issues/21755 */display: inline-block !important;position: relative;}#sk-container-id-1 div.sk-text-repr-fallback {display: none;}</style><div id=\"sk-container-id-1\" class=\"sk-top-container\"><div class=\"sk-text-repr-fallback\"><pre>LogisticRegression(C=0.01, solver=&#x27;liblinear&#x27;)</pre><b>In a Jupyter environment, please rerun this cell to show the HTML representation or trust the notebook. <br />On GitHub, the HTML representation is unable to render, please try loading this page with nbviewer.org.</b></div><div class=\"sk-container\" hidden><div class=\"sk-item\"><div class=\"sk-estimator sk-toggleable\"><input class=\"sk-toggleable__control sk-hidden--visually\" id=\"sk-estimator-id-1\" type=\"checkbox\" checked><label for=\"sk-estimator-id-1\" class=\"sk-toggleable__label sk-toggleable__label-arrow\">LogisticRegression</label><div class=\"sk-toggleable__content\"><pre>LogisticRegression(C=0.01, solver=&#x27;liblinear&#x27;)</pre></div></div></div></div></div>"
      ],
      "text/plain": [
       "LogisticRegression(C=0.01, solver='liblinear')"
      ]
     },
     "execution_count": 25,
     "metadata": {},
     "output_type": "execute_result"
    }
   ],
   "source": [
    "from sklearn.linear_model import LogisticRegression\n",
    "from sklearn.metrics import confusion_matrix\n",
    "\n",
    "LR = LogisticRegression(C=0.01, solver='liblinear').fit(X_train,y_train)\n",
    "LR"
   ]
  },
  {
   "attachments": {},
   "cell_type": "markdown",
   "metadata": {},
   "source": [
    "####  predict (using our test set)\n"
   ]
  },
  {
   "cell_type": "code",
   "execution_count": 27,
   "metadata": {},
   "outputs": [
    {
     "name": "stdout",
     "output_type": "stream",
     "text": [
      "[0 0 0 0 0 0 1 0 1 0 1 0 0 1 0 0 1 0 1 0 0 1 0 1 1 0 1 1 0 0 0 0 1 0 0 0 1\n",
      " 0 0 1]\n",
      "[0 0 1 0 1 1 1 0 1 1 0 0 0 1 0 0 1 1 1 1 0 0 0 0 0 0 0 0 0 0 0 0 1 0 1 0 1\n",
      " 1 0 0]\n"
     ]
    }
   ],
   "source": [
    "yhat = LR.predict(X_test)\n",
    "print(yhat)\n",
    "print(y_test)"
   ]
  },
  {
   "attachments": {},
   "cell_type": "markdown",
   "metadata": {},
   "source": [
    "##### predict_proba"
   ]
  },
  {
   "cell_type": "code",
   "execution_count": 28,
   "metadata": {},
   "outputs": [
    {
     "data": {
      "text/plain": [
       "array([[0.60722328, 0.39277672],\n",
       "       [0.61809654, 0.38190346],\n",
       "       [0.58411229, 0.41588771],\n",
       "       [0.65417657, 0.34582343],\n",
       "       [0.57846128, 0.42153872],\n",
       "       [0.60571723, 0.39428277],\n",
       "       [0.49465243, 0.50534757],\n",
       "       [0.63096405, 0.36903595],\n",
       "       [0.37261192, 0.62738808],\n",
       "       [0.57501555, 0.42498445],\n",
       "       [0.43796261, 0.56203739],\n",
       "       [0.56949003, 0.43050997],\n",
       "       [0.52659009, 0.47340991],\n",
       "       [0.38212909, 0.61787091],\n",
       "       [0.68571532, 0.31428468],\n",
       "       [0.52974013, 0.47025987],\n",
       "       [0.49534501, 0.50465499],\n",
       "       [0.54486783, 0.45513217],\n",
       "       [0.42671406, 0.57328594],\n",
       "       [0.58188784, 0.41811216],\n",
       "       [0.50068924, 0.49931076],\n",
       "       [0.41069809, 0.58930191],\n",
       "       [0.80418638, 0.19581362],\n",
       "       [0.34302289, 0.65697711],\n",
       "       [0.43713534, 0.56286466],\n",
       "       [0.75147663, 0.24852337],\n",
       "       [0.39496994, 0.60503006],\n",
       "       [0.42173992, 0.57826008],\n",
       "       [0.53615371, 0.46384629],\n",
       "       [0.82329995, 0.17670005],\n",
       "       [0.74876986, 0.25123014],\n",
       "       [0.60601763, 0.39398237],\n",
       "       [0.31608844, 0.68391156],\n",
       "       [0.72967456, 0.27032544],\n",
       "       [0.70767479, 0.29232521],\n",
       "       [0.60199123, 0.39800877],\n",
       "       [0.36515497, 0.63484503],\n",
       "       [0.60399177, 0.39600823],\n",
       "       [0.84359251, 0.15640749],\n",
       "       [0.37455692, 0.62544308]])"
      ]
     },
     "execution_count": 28,
     "metadata": {},
     "output_type": "execute_result"
    }
   ],
   "source": [
    "yhat_prob = LR.predict_proba(X_test)\n",
    "yhat_prob"
   ]
  },
  {
   "cell_type": "code",
   "execution_count": null,
   "metadata": {},
   "outputs": [],
   "source": []
  }
 ],
 "metadata": {
  "kernelspec": {
   "display_name": "Python 3",
   "language": "python",
   "name": "python3"
  },
  "language_info": {
   "codemirror_mode": {
    "name": "ipython",
    "version": 3
   },
   "file_extension": ".py",
   "mimetype": "text/x-python",
   "name": "python",
   "nbconvert_exporter": "python",
   "pygments_lexer": "ipython3",
   "version": "3.10.10"
  },
  "orig_nbformat": 4
 },
 "nbformat": 4,
 "nbformat_minor": 2
}
